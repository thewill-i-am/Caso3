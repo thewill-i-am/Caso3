{
  "nbformat": 4,
  "nbformat_minor": 0,
  "metadata": {
    "colab": {
      "name": "Caso #3 - 2021-II BCD7214 Administración de datos.ipynb",
      "provenance": []
    },
    "kernelspec": {
      "name": "python3",
      "display_name": "Python 3"
    },
    "language_info": {
      "name": "python"
    }
  },
  "cells": [
    {
      "cell_type": "markdown",
      "metadata": {
        "id": "wxS9exw0rM2g"
      },
      "source": [
        "# Caso #3 - 2021-II BCD7214 Administración de datos\n",
        "## Estudiantes: <font color='green'>Aguilar, William. & Vargas, Rachit."
      ]
    },
    {
      "cell_type": "markdown",
      "metadata": {
        "id": "2uEsCeERrjLr"
      },
      "source": [
        "<img src=https://biblioteca.ulead.ac.cr/sites/default/files/LEAD%20color.png  width=\"220\"></img>\n",
        "\n",
        "\n",
        "\n",
        "---\n",
        "\n"
      ]
    },
    {
      "cell_type": "code",
      "metadata": {
        "id": "u1ziKKXLrMI9"
      },
      "source": [
        "import pandas as pd\n",
        "import numpy as np\n",
        "import seaborn as sns\n",
        "import matplotlib.pyplot as plt\n",
        "import warnings\n",
        "warnings.filterwarnings('ignore')"
      ],
      "execution_count": 1,
      "outputs": []
    },
    {
      "cell_type": "code",
      "metadata": {
        "id": "DM8iF1ZLsPS8"
      },
      "source": [
        "df = pd.read_csv('/content/data.csv', sep=';', error_bad_lines=False)\n",
        "df.columns = df.columns.str.lower().str.replace(' ', '_')"
      ],
      "execution_count": 2,
      "outputs": []
    },
    {
      "cell_type": "code",
      "metadata": {
        "id": "a3r2kXZfvcrn"
      },
      "source": [
        "class Analisis_Data():\n",
        "\n",
        "  \"\"\" Se crea una clase para poder manejar los comandos de manera mas efectiva y rapida, a la vez que se reuti -\n",
        "  liza el codigo normalmente repetitivo \"\"\"\n",
        "  \n",
        "  def __init__(self, datos):\n",
        "    self.__datos = datos\n",
        "  \n",
        "  @property \n",
        "  def datos(self):\n",
        "    return self.__datos\n",
        "\n",
        "  @datos.setter\n",
        "  def datos(self, datos):\n",
        "    self.__datos = datos\n",
        "  \n",
        "  def head(self, cantidad_registros=5): \n",
        "    return self.__datos.head(cantidad_registros)\n",
        "\n",
        "  def tail(self, cantidad_registros=5):\n",
        "    return self.__datos.tail(cantidad_registros)\n",
        "\n",
        "  def delete_column_dinamic(self, percent_up=0.9):\n",
        "    columns = self.__datos.columns\n",
        "    i = 0\n",
        "    for col in columns:\n",
        "      valor = np.mean(self.__datos[col].isnull()[i])\n",
        "      if valor >= percent_up:\n",
        "        del self.__datos[col]\n",
        "      i+=1;\n",
        "\n",
        "  def delete_column(self, col_del): # ESTE COMANDO ELIMINA LA COLUMNA QUE QUERAMOS DE MODO MANUAL\n",
        "    del self.__datos[col_del]\n",
        "\n",
        "  def data_types(self):\n",
        "    print('TIPOS DE DATOS POR COLUMNA:\\n')\n",
        "    return self.__datos.dtypes\n",
        "\n",
        "  def __display_data_null(self):\n",
        "    plt.figure(figsize=(10,5), dpi=100)\n",
        "    sns.heatmap(self.__datos.isnull(), cbar=False, cmap='OrRd')\n",
        "    plt.gca().update(dict(title='Null values - Heatmap', xlabel='Variables', ylabel='Index'))\n",
        "    plt.show()\n",
        "\n",
        "  def data_null(self):\n",
        "    self.__display_data_null()\n",
        "    print('VALORES NULOS POR COLUMNAS:\\n')\n",
        "    print(self.__datos.isnull().sum())\n",
        "  \n",
        "  def data_null_percent(self):\n",
        "    return np.mean(self.__datos.isnull()*100)\n",
        "  \n",
        "  def replace_values(self, to_replace, value, columns=[]):\n",
        "    self.__datos[columns] = self.__datos[columns].replace(to_replace, value)\n",
        "  \n",
        "  def del_row_null(self, thresh=3):\n",
        "    self.__datos = self.__datos.dropna(thresh=thresh)\n",
        "  \n",
        "  def save_csv(self, file_name='data.csv', index=False):\n",
        "    self.__datos.to_csv(file_name, index=index)\n",
        "  \n",
        "analisis = Analisis_Data(df) # INSTANCIA DE LA CLASE CREADA"
      ],
      "execution_count": 3,
      "outputs": []
    },
    {
      "cell_type": "markdown",
      "metadata": {
        "id": "fIlW-J_vy-44"
      },
      "source": [
        "### Mostrando los primeros 5 registros del dataframe"
      ]
    },
    {
      "cell_type": "code",
      "metadata": {
        "colab": {
          "base_uri": "https://localhost:8080/",
          "height": 238
        },
        "id": "2rBZrv5Av1vA",
        "outputId": "852c6111-3911-40bf-a67d-706d28d475e9"
      },
      "source": [
        "analisis.head(cantidad_registros=5)"
      ],
      "execution_count": 4,
      "outputs": [
        {
          "output_type": "execute_result",
          "data": {
            "text/html": [
              "<div>\n",
              "<style scoped>\n",
              "    .dataframe tbody tr th:only-of-type {\n",
              "        vertical-align: middle;\n",
              "    }\n",
              "\n",
              "    .dataframe tbody tr th {\n",
              "        vertical-align: top;\n",
              "    }\n",
              "\n",
              "    .dataframe thead th {\n",
              "        text-align: right;\n",
              "    }\n",
              "</style>\n",
              "<table border=\"1\" class=\"dataframe\">\n",
              "  <thead>\n",
              "    <tr style=\"text-align: right;\">\n",
              "      <th></th>\n",
              "      <th>id</th>\n",
              "      <th>firstname</th>\n",
              "      <th>lastname</th>\n",
              "      <th>gender</th>\n",
              "      <th>birthday</th>\n",
              "      <th>status</th>\n",
              "      <th>salary</th>\n",
              "      <th>taxes</th>\n",
              "      <th>department</th>\n",
              "      <th>hourlyrate</th>\n",
              "      <th>maritalstatus</th>\n",
              "      <th>overtime</th>\n",
              "    </tr>\n",
              "  </thead>\n",
              "  <tbody>\n",
              "    <tr>\n",
              "      <th>0</th>\n",
              "      <td>1</td>\n",
              "      <td>Kimberley</td>\n",
              "      <td>Kuhic</td>\n",
              "      <td>F</td>\n",
              "      <td>15/5/90</td>\n",
              "      <td>--</td>\n",
              "      <td>110182.0</td>\n",
              "      <td>NaN</td>\n",
              "      <td>Sales</td>\n",
              "      <td>40</td>\n",
              "      <td>Single</td>\n",
              "      <td>Yes</td>\n",
              "    </tr>\n",
              "    <tr>\n",
              "      <th>1</th>\n",
              "      <td>1</td>\n",
              "      <td>Kitty</td>\n",
              "      <td>Ruecker</td>\n",
              "      <td>F</td>\n",
              "      <td>24/7/76</td>\n",
              "      <td>PE</td>\n",
              "      <td>90613.0</td>\n",
              "      <td>NaN</td>\n",
              "      <td>Sales</td>\n",
              "      <td>76</td>\n",
              "      <td>Married</td>\n",
              "      <td>No</td>\n",
              "    </tr>\n",
              "    <tr>\n",
              "      <th>2</th>\n",
              "      <td>5</td>\n",
              "      <td>Jamal</td>\n",
              "      <td>Cole</td>\n",
              "      <td>M</td>\n",
              "      <td>31/1/83</td>\n",
              "      <td>PE</td>\n",
              "      <td>109251.0</td>\n",
              "      <td>NaN</td>\n",
              "      <td>Research &amp; Development</td>\n",
              "      <td>89</td>\n",
              "      <td>Single</td>\n",
              "      <td>Yes</td>\n",
              "    </tr>\n",
              "    <tr>\n",
              "      <th>3</th>\n",
              "      <td>5</td>\n",
              "      <td>Christopher</td>\n",
              "      <td>D'Amore</td>\n",
              "      <td>F</td>\n",
              "      <td>16/3/74</td>\n",
              "      <td>PE</td>\n",
              "      <td>103614.0</td>\n",
              "      <td>NaN</td>\n",
              "      <td>Sales</td>\n",
              "      <td>78</td>\n",
              "      <td>Married</td>\n",
              "      <td>No</td>\n",
              "    </tr>\n",
              "    <tr>\n",
              "      <th>4</th>\n",
              "      <td>5</td>\n",
              "      <td>Carly</td>\n",
              "      <td>Ratke</td>\n",
              "      <td>M</td>\n",
              "      <td>16/1/98</td>\n",
              "      <td>PE</td>\n",
              "      <td>88315.0</td>\n",
              "      <td>NaN</td>\n",
              "      <td>Research &amp; Development</td>\n",
              "      <td>86</td>\n",
              "      <td>Single</td>\n",
              "      <td>Yes</td>\n",
              "    </tr>\n",
              "  </tbody>\n",
              "</table>\n",
              "</div>"
            ],
            "text/plain": [
              "   id    firstname lastname  ... hourlyrate maritalstatus overtime\n",
              "0   1    Kimberley    Kuhic  ...         40        Single      Yes\n",
              "1   1        Kitty  Ruecker  ...         76       Married       No\n",
              "2   5        Jamal     Cole  ...         89        Single      Yes\n",
              "3   5  Christopher  D'Amore  ...         78       Married       No\n",
              "4   5        Carly    Ratke  ...         86        Single      Yes\n",
              "\n",
              "[5 rows x 12 columns]"
            ]
          },
          "metadata": {
            "tags": []
          },
          "execution_count": 4
        }
      ]
    },
    {
      "cell_type": "markdown",
      "metadata": {
        "id": "UEHjBcWszDzi"
      },
      "source": [
        "### Mostrando los últimos 5 registros del dataframe"
      ]
    },
    {
      "cell_type": "code",
      "metadata": {
        "colab": {
          "base_uri": "https://localhost:8080/",
          "height": 272
        },
        "id": "s16Aoj_XyHVK",
        "outputId": "d51e8ca8-1e4a-4ea6-8757-ef0271396502"
      },
      "source": [
        "analisis.tail(cantidad_registros=5)"
      ],
      "execution_count": 5,
      "outputs": [
        {
          "output_type": "execute_result",
          "data": {
            "text/html": [
              "<div>\n",
              "<style scoped>\n",
              "    .dataframe tbody tr th:only-of-type {\n",
              "        vertical-align: middle;\n",
              "    }\n",
              "\n",
              "    .dataframe tbody tr th {\n",
              "        vertical-align: top;\n",
              "    }\n",
              "\n",
              "    .dataframe thead th {\n",
              "        text-align: right;\n",
              "    }\n",
              "</style>\n",
              "<table border=\"1\" class=\"dataframe\">\n",
              "  <thead>\n",
              "    <tr style=\"text-align: right;\">\n",
              "      <th></th>\n",
              "      <th>id</th>\n",
              "      <th>firstname</th>\n",
              "      <th>lastname</th>\n",
              "      <th>gender</th>\n",
              "      <th>birthday</th>\n",
              "      <th>status</th>\n",
              "      <th>salary</th>\n",
              "      <th>taxes</th>\n",
              "      <th>department</th>\n",
              "      <th>hourlyrate</th>\n",
              "      <th>maritalstatus</th>\n",
              "      <th>overtime</th>\n",
              "    </tr>\n",
              "  </thead>\n",
              "  <tbody>\n",
              "    <tr>\n",
              "      <th>995</th>\n",
              "      <td>996</td>\n",
              "      <td>Linnie</td>\n",
              "      <td>Larson</td>\n",
              "      <td>F</td>\n",
              "      <td>4/3/80</td>\n",
              "      <td>PE</td>\n",
              "      <td>92815.0</td>\n",
              "      <td>NaN</td>\n",
              "      <td>Research &amp; Development</td>\n",
              "      <td>92</td>\n",
              "      <td>Single</td>\n",
              "      <td>Yes</td>\n",
              "    </tr>\n",
              "    <tr>\n",
              "      <th>996</th>\n",
              "      <td>997</td>\n",
              "      <td>Agusta</td>\n",
              "      <td>Emmerich</td>\n",
              "      <td>M</td>\n",
              "      <td>5/12/72</td>\n",
              "      <td>PE</td>\n",
              "      <td>114085.0</td>\n",
              "      <td>NaN</td>\n",
              "      <td>Research &amp; Development</td>\n",
              "      <td>91</td>\n",
              "      <td>Divorced</td>\n",
              "      <td>No</td>\n",
              "    </tr>\n",
              "    <tr>\n",
              "      <th>997</th>\n",
              "      <td>997</td>\n",
              "      <td>Andrew</td>\n",
              "      <td>Schulist</td>\n",
              "      <td>F</td>\n",
              "      <td>2/1/71</td>\n",
              "      <td>PE</td>\n",
              "      <td>101940.0</td>\n",
              "      <td>NaN</td>\n",
              "      <td>Research &amp; Development</td>\n",
              "      <td>34</td>\n",
              "      <td>Single</td>\n",
              "      <td>No</td>\n",
              "    </tr>\n",
              "    <tr>\n",
              "      <th>998</th>\n",
              "      <td>997</td>\n",
              "      <td>Brook</td>\n",
              "      <td>Turner</td>\n",
              "      <td>M</td>\n",
              "      <td>21/6/90</td>\n",
              "      <td>NaN</td>\n",
              "      <td>80734.0</td>\n",
              "      <td>NaN</td>\n",
              "      <td>Research &amp; Development</td>\n",
              "      <td>49</td>\n",
              "      <td>Married</td>\n",
              "      <td>No</td>\n",
              "    </tr>\n",
              "    <tr>\n",
              "      <th>999</th>\n",
              "      <td>999</td>\n",
              "      <td>Maceo</td>\n",
              "      <td>Wisoky</td>\n",
              "      <td>M</td>\n",
              "      <td>12/11/83</td>\n",
              "      <td>PE</td>\n",
              "      <td>142838.0</td>\n",
              "      <td>NaN</td>\n",
              "      <td>Human Resources</td>\n",
              "      <td>33</td>\n",
              "      <td>Married</td>\n",
              "      <td>No</td>\n",
              "    </tr>\n",
              "  </tbody>\n",
              "</table>\n",
              "</div>"
            ],
            "text/plain": [
              "      id firstname  lastname  ... hourlyrate maritalstatus overtime\n",
              "995  996    Linnie    Larson  ...         92        Single      Yes\n",
              "996  997    Agusta  Emmerich  ...         91      Divorced       No\n",
              "997  997    Andrew  Schulist  ...         34        Single       No\n",
              "998  997     Brook    Turner  ...         49       Married       No\n",
              "999  999     Maceo    Wisoky  ...         33       Married       No\n",
              "\n",
              "[5 rows x 12 columns]"
            ]
          },
          "metadata": {
            "tags": []
          },
          "execution_count": 5
        }
      ]
    },
    {
      "cell_type": "markdown",
      "metadata": {
        "id": "L3_oahHjz1xK"
      },
      "source": [
        "### Mostrando los tipos de datos por columna"
      ]
    },
    {
      "cell_type": "code",
      "metadata": {
        "colab": {
          "base_uri": "https://localhost:8080/"
        },
        "id": "X5RXPtybzjb3",
        "outputId": "3700ffd7-ff43-4c06-8290-2206fd6d4660"
      },
      "source": [
        "analisis.data_types()"
      ],
      "execution_count": 6,
      "outputs": [
        {
          "output_type": "stream",
          "text": [
            "TIPOS DE DATOS POR COLUMNA:\n",
            "\n"
          ],
          "name": "stdout"
        },
        {
          "output_type": "execute_result",
          "data": {
            "text/plain": [
              "id                 int64\n",
              "firstname         object\n",
              "lastname          object\n",
              "gender            object\n",
              "birthday          object\n",
              "status            object\n",
              "salary           float64\n",
              "taxes             object\n",
              "department        object\n",
              "hourlyrate        object\n",
              "maritalstatus     object\n",
              "overtime          object\n",
              "dtype: object"
            ]
          },
          "metadata": {
            "tags": []
          },
          "execution_count": 6
        }
      ]
    },
    {
      "cell_type": "markdown",
      "metadata": {
        "id": "2kGFt-jU3y3R"
      },
      "source": [
        "### Mostrando valores nulos por columnas"
      ]
    },
    {
      "cell_type": "code",
      "metadata": {
        "colab": {
          "base_uri": "https://localhost:8080/",
          "height": 813
        },
        "id": "No5E90f_1XI3",
        "outputId": "6132b377-54c0-4152-facb-ea26a4579a22"
      },
      "source": [
        "analisis.data_null()"
      ],
      "execution_count": 7,
      "outputs": [
        {
          "output_type": "display_data",
          "data": {
            "image/png": "[encoded data removed]",
            "text/plain": [
              "<Figure size 1000x500 with 1 Axes>"
            ]
          },
          "metadata": {
            "tags": [],
            "needs_background": "light"
          }
        },
        {
          "output_type": "stream",
          "text": [
            "VALORES NULOS POR COLUMNAS:\n",
            "\n",
            "id                 0\n",
            "firstname          2\n",
            "lastname           2\n",
            "gender           207\n",
            "birthday           2\n",
            "status           178\n",
            "salary             2\n",
            "taxes            993\n",
            "department        12\n",
            "hourlyrate         2\n",
            "maritalstatus     25\n",
            "overtime           2\n",
            "dtype: int64\n"
          ],
          "name": "stdout"
        }
      ]
    },
    {
      "cell_type": "markdown",
      "metadata": {
        "id": "B6MD2OTzN7Pq"
      },
      "source": [
        "### Mostrando valores nulos por columnas en %"
      ]
    },
    {
      "cell_type": "code",
      "metadata": {
        "colab": {
          "base_uri": "https://localhost:8080/"
        },
        "id": "ZQLlTYEAKjup",
        "outputId": "63b5cf8c-f0ee-4765-e781-c1719861bcbe"
      },
      "source": [
        "analisis.data_null_percent()"
      ],
      "execution_count": 8,
      "outputs": [
        {
          "output_type": "execute_result",
          "data": {
            "text/plain": [
              "id                0.0\n",
              "firstname         0.2\n",
              "lastname          0.2\n",
              "gender           20.7\n",
              "birthday          0.2\n",
              "status           17.8\n",
              "salary            0.2\n",
              "taxes            99.3\n",
              "department        1.2\n",
              "hourlyrate        0.2\n",
              "maritalstatus     2.5\n",
              "overtime          0.2\n",
              "dtype: float64"
            ]
          },
          "metadata": {
            "tags": []
          },
          "execution_count": 8
        }
      ]
    },
    {
      "cell_type": "markdown",
      "metadata": {
        "id": "GRXO9SWiO5Np"
      },
      "source": [
        "### Eliminando los datos con valores nulos arriba o igual al 70%"
      ]
    },
    {
      "cell_type": "code",
      "metadata": {
        "colab": {
          "base_uri": "https://localhost:8080/",
          "height": 204
        },
        "id": "jm7O8JPAOgGj",
        "outputId": "04c5a0f8-e78e-4029-bc78-633bfbbc0d31"
      },
      "source": [
        "analisis.delete_column_dinamic(percent_up=0.7)\n",
        "analisis.head(cantidad_registros=5)"
      ],
      "execution_count": 9,
      "outputs": [
        {
          "output_type": "execute_result",
          "data": {
            "text/html": [
              "<div>\n",
              "<style scoped>\n",
              "    .dataframe tbody tr th:only-of-type {\n",
              "        vertical-align: middle;\n",
              "    }\n",
              "\n",
              "    .dataframe tbody tr th {\n",
              "        vertical-align: top;\n",
              "    }\n",
              "\n",
              "    .dataframe thead th {\n",
              "        text-align: right;\n",
              "    }\n",
              "</style>\n",
              "<table border=\"1\" class=\"dataframe\">\n",
              "  <thead>\n",
              "    <tr style=\"text-align: right;\">\n",
              "      <th></th>\n",
              "      <th>id</th>\n",
              "      <th>firstname</th>\n",
              "      <th>lastname</th>\n",
              "      <th>gender</th>\n",
              "      <th>birthday</th>\n",
              "      <th>status</th>\n",
              "      <th>salary</th>\n",
              "      <th>department</th>\n",
              "      <th>hourlyrate</th>\n",
              "      <th>maritalstatus</th>\n",
              "      <th>overtime</th>\n",
              "    </tr>\n",
              "  </thead>\n",
              "  <tbody>\n",
              "    <tr>\n",
              "      <th>0</th>\n",
              "      <td>1</td>\n",
              "      <td>Kimberley</td>\n",
              "      <td>Kuhic</td>\n",
              "      <td>F</td>\n",
              "      <td>15/5/90</td>\n",
              "      <td>--</td>\n",
              "      <td>110182.0</td>\n",
              "      <td>Sales</td>\n",
              "      <td>40</td>\n",
              "      <td>Single</td>\n",
              "      <td>Yes</td>\n",
              "    </tr>\n",
              "    <tr>\n",
              "      <th>1</th>\n",
              "      <td>1</td>\n",
              "      <td>Kitty</td>\n",
              "      <td>Ruecker</td>\n",
              "      <td>F</td>\n",
              "      <td>24/7/76</td>\n",
              "      <td>PE</td>\n",
              "      <td>90613.0</td>\n",
              "      <td>Sales</td>\n",
              "      <td>76</td>\n",
              "      <td>Married</td>\n",
              "      <td>No</td>\n",
              "    </tr>\n",
              "    <tr>\n",
              "      <th>2</th>\n",
              "      <td>5</td>\n",
              "      <td>Jamal</td>\n",
              "      <td>Cole</td>\n",
              "      <td>M</td>\n",
              "      <td>31/1/83</td>\n",
              "      <td>PE</td>\n",
              "      <td>109251.0</td>\n",
              "      <td>Research &amp; Development</td>\n",
              "      <td>89</td>\n",
              "      <td>Single</td>\n",
              "      <td>Yes</td>\n",
              "    </tr>\n",
              "    <tr>\n",
              "      <th>3</th>\n",
              "      <td>5</td>\n",
              "      <td>Christopher</td>\n",
              "      <td>D'Amore</td>\n",
              "      <td>F</td>\n",
              "      <td>16/3/74</td>\n",
              "      <td>PE</td>\n",
              "      <td>103614.0</td>\n",
              "      <td>Sales</td>\n",
              "      <td>78</td>\n",
              "      <td>Married</td>\n",
              "      <td>No</td>\n",
              "    </tr>\n",
              "    <tr>\n",
              "      <th>4</th>\n",
              "      <td>5</td>\n",
              "      <td>Carly</td>\n",
              "      <td>Ratke</td>\n",
              "      <td>M</td>\n",
              "      <td>16/1/98</td>\n",
              "      <td>PE</td>\n",
              "      <td>88315.0</td>\n",
              "      <td>Research &amp; Development</td>\n",
              "      <td>86</td>\n",
              "      <td>Single</td>\n",
              "      <td>Yes</td>\n",
              "    </tr>\n",
              "  </tbody>\n",
              "</table>\n",
              "</div>"
            ],
            "text/plain": [
              "   id    firstname lastname  ... hourlyrate maritalstatus overtime\n",
              "0   1    Kimberley    Kuhic  ...         40        Single      Yes\n",
              "1   1        Kitty  Ruecker  ...         76       Married       No\n",
              "2   5        Jamal     Cole  ...         89        Single      Yes\n",
              "3   5  Christopher  D'Amore  ...         78       Married       No\n",
              "4   5        Carly    Ratke  ...         86        Single      Yes\n",
              "\n",
              "[5 rows x 11 columns]"
            ]
          },
          "metadata": {
            "tags": []
          },
          "execution_count": 9
        }
      ]
    },
    {
      "cell_type": "markdown",
      "metadata": {
        "id": "vBsltu42dfn6"
      },
      "source": [
        "### Eliminando las filas con elementos menores o igual a 2"
      ]
    },
    {
      "cell_type": "code",
      "metadata": {
        "id": "OF2eY2HMeIE1",
        "colab": {
          "base_uri": "https://localhost:8080/"
        },
        "outputId": "1206f2d5-b418-4a42-f352-7292289218e0"
      },
      "source": [
        "print('Dimensiones sin la eliminacion de las filas: ' + str(analisis.datos.shape))\n",
        "analisis.del_row_null(thresh=2)\n",
        "print('Dimensiones con la eliminacion de las filas:' + str(analisis.datos.shape))"
      ],
      "execution_count": 10,
      "outputs": [
        {
          "output_type": "stream",
          "text": [
            "Dimensiones sin la eliminacion de las filas: (1000, 11)\n",
            "Dimensiones con la eliminacion de las filas:(998, 11)\n"
          ],
          "name": "stdout"
        }
      ]
    },
    {
      "cell_type": "markdown",
      "metadata": {
        "id": "i2QlWLiteI91"
      },
      "source": [
        "### Remplazando los String \"--\" por valores nulos"
      ]
    },
    {
      "cell_type": "code",
      "metadata": {
        "colab": {
          "base_uri": "https://localhost:8080/",
          "height": 204
        },
        "id": "Wq4z9GCYeN-4",
        "outputId": "b6e961dc-7390-43d5-f756-0a13aec60300"
      },
      "source": [
        "columnas = analisis.datos.columns\n",
        "analisis.replace_values('--', np.nan, columnas)\n",
        "analisis.head(cantidad_registros=5)"
      ],
      "execution_count": 11,
      "outputs": [
        {
          "output_type": "execute_result",
          "data": {
            "text/html": [
              "<div>\n",
              "<style scoped>\n",
              "    .dataframe tbody tr th:only-of-type {\n",
              "        vertical-align: middle;\n",
              "    }\n",
              "\n",
              "    .dataframe tbody tr th {\n",
              "        vertical-align: top;\n",
              "    }\n",
              "\n",
              "    .dataframe thead th {\n",
              "        text-align: right;\n",
              "    }\n",
              "</style>\n",
              "<table border=\"1\" class=\"dataframe\">\n",
              "  <thead>\n",
              "    <tr style=\"text-align: right;\">\n",
              "      <th></th>\n",
              "      <th>id</th>\n",
              "      <th>firstname</th>\n",
              "      <th>lastname</th>\n",
              "      <th>gender</th>\n",
              "      <th>birthday</th>\n",
              "      <th>status</th>\n",
              "      <th>salary</th>\n",
              "      <th>department</th>\n",
              "      <th>hourlyrate</th>\n",
              "      <th>maritalstatus</th>\n",
              "      <th>overtime</th>\n",
              "    </tr>\n",
              "  </thead>\n",
              "  <tbody>\n",
              "    <tr>\n",
              "      <th>0</th>\n",
              "      <td>1</td>\n",
              "      <td>Kimberley</td>\n",
              "      <td>Kuhic</td>\n",
              "      <td>F</td>\n",
              "      <td>15/5/90</td>\n",
              "      <td>NaN</td>\n",
              "      <td>110182.0</td>\n",
              "      <td>Sales</td>\n",
              "      <td>40</td>\n",
              "      <td>Single</td>\n",
              "      <td>Yes</td>\n",
              "    </tr>\n",
              "    <tr>\n",
              "      <th>1</th>\n",
              "      <td>1</td>\n",
              "      <td>Kitty</td>\n",
              "      <td>Ruecker</td>\n",
              "      <td>F</td>\n",
              "      <td>24/7/76</td>\n",
              "      <td>PE</td>\n",
              "      <td>90613.0</td>\n",
              "      <td>Sales</td>\n",
              "      <td>76</td>\n",
              "      <td>Married</td>\n",
              "      <td>No</td>\n",
              "    </tr>\n",
              "    <tr>\n",
              "      <th>2</th>\n",
              "      <td>5</td>\n",
              "      <td>Jamal</td>\n",
              "      <td>Cole</td>\n",
              "      <td>M</td>\n",
              "      <td>31/1/83</td>\n",
              "      <td>PE</td>\n",
              "      <td>109251.0</td>\n",
              "      <td>Research &amp; Development</td>\n",
              "      <td>89</td>\n",
              "      <td>Single</td>\n",
              "      <td>Yes</td>\n",
              "    </tr>\n",
              "    <tr>\n",
              "      <th>3</th>\n",
              "      <td>5</td>\n",
              "      <td>Christopher</td>\n",
              "      <td>D'Amore</td>\n",
              "      <td>F</td>\n",
              "      <td>16/3/74</td>\n",
              "      <td>PE</td>\n",
              "      <td>103614.0</td>\n",
              "      <td>Sales</td>\n",
              "      <td>78</td>\n",
              "      <td>Married</td>\n",
              "      <td>No</td>\n",
              "    </tr>\n",
              "    <tr>\n",
              "      <th>4</th>\n",
              "      <td>5</td>\n",
              "      <td>Carly</td>\n",
              "      <td>Ratke</td>\n",
              "      <td>M</td>\n",
              "      <td>16/1/98</td>\n",
              "      <td>PE</td>\n",
              "      <td>88315.0</td>\n",
              "      <td>Research &amp; Development</td>\n",
              "      <td>86</td>\n",
              "      <td>Single</td>\n",
              "      <td>Yes</td>\n",
              "    </tr>\n",
              "  </tbody>\n",
              "</table>\n",
              "</div>"
            ],
            "text/plain": [
              "   id    firstname lastname  ... hourlyrate maritalstatus overtime\n",
              "0   1    Kimberley    Kuhic  ...         40        Single      Yes\n",
              "1   1        Kitty  Ruecker  ...         76       Married       No\n",
              "2   5        Jamal     Cole  ...         89        Single      Yes\n",
              "3   5  Christopher  D'Amore  ...         78       Married       No\n",
              "4   5        Carly    Ratke  ...         86        Single      Yes\n",
              "\n",
              "[5 rows x 11 columns]"
            ]
          },
          "metadata": {
            "tags": []
          },
          "execution_count": 11
        }
      ]
    },
    {
      "cell_type": "markdown",
      "metadata": {
        "id": "4UQkTcmDfZaM"
      },
      "source": [
        "### Remplazando los valores nulos de la variable <font color='blue'>Gender</font> por U\n"
      ]
    },
    {
      "cell_type": "code",
      "metadata": {
        "colab": {
          "base_uri": "https://localhost:8080/"
        },
        "id": "Wm-GQqKifZF_",
        "outputId": "2768a3bc-3bc1-440c-a2a8-892b5b771b6e"
      },
      "source": [
        "columna = ['gender']\n",
        "analisis.replace_values(np.nan, 'U', columna)\n",
        "analisis.datos.gender.unique()"
      ],
      "execution_count": 12,
      "outputs": [
        {
          "output_type": "execute_result",
          "data": {
            "text/plain": [
              "array(['F', 'M', 'U'], dtype=object)"
            ]
          },
          "metadata": {
            "tags": []
          },
          "execution_count": 12
        }
      ]
    },
    {
      "cell_type": "markdown",
      "metadata": {
        "id": "jupbjp9LhwSf"
      },
      "source": [
        "### Remplazando los valores nulos de la variable <font color='blue'>Departamento</font> por Bench"
      ]
    },
    {
      "cell_type": "code",
      "metadata": {
        "colab": {
          "base_uri": "https://localhost:8080/"
        },
        "id": "1DPyYvDVhtND",
        "outputId": "d96de2bf-bcd5-44fd-a9e0-8a759764203c"
      },
      "source": [
        "columna2 = ['department']\n",
        "analisis.replace_values(np.nan, 'Bench', columna2)\n",
        "analisis.datos.department.unique()"
      ],
      "execution_count": 13,
      "outputs": [
        {
          "output_type": "execute_result",
          "data": {
            "text/plain": [
              "array(['Sales', 'Research & Development', 'Human Resources', 'Bench'],\n",
              "      dtype=object)"
            ]
          },
          "metadata": {
            "tags": []
          },
          "execution_count": 13
        }
      ]
    },
    {
      "cell_type": "markdown",
      "metadata": {
        "id": "z3WKms2Pkkv2"
      },
      "source": [
        "### Remplazando los valores nulos de la variable <font color='blue'>hourlyrate</font> por la media"
      ]
    },
    {
      "cell_type": "code",
      "metadata": {
        "id": "NrduCOeNjxOw"
      },
      "source": [
        "\"\"\" En este fragmento de codigo estamos cambiando la variable hourlyrate a tipo de dato numerico y nos estamos ayudando de una variable \n",
        "    llamada temp (temporal) \"\"\"\n",
        "                      \n",
        "temp = analisis.datos\n",
        "temp.hourlyrate = pd.to_numeric(temp.hourlyrate)\n",
        "analisis.datos = temp"
      ],
      "execution_count": 14,
      "outputs": []
    },
    {
      "cell_type": "code",
      "metadata": {
        "colab": {
          "base_uri": "https://localhost:8080/"
        },
        "id": "VWi23c9XkkN9",
        "outputId": "6adb01b9-d9ad-46f8-836d-8be6e1ebffca"
      },
      "source": [
        "columna3 = ['hourlyrate']\n",
        "analisis.replace_values(np.nan, analisis.datos.hourlyrate.median(), columna3)\n",
        "analisis.datos.isnull().sum()"
      ],
      "execution_count": 15,
      "outputs": [
        {
          "output_type": "execute_result",
          "data": {
            "text/plain": [
              "id                 0\n",
              "firstname          0\n",
              "lastname           0\n",
              "gender             0\n",
              "birthday           0\n",
              "status           187\n",
              "salary             0\n",
              "department         0\n",
              "hourlyrate         0\n",
              "maritalstatus     23\n",
              "overtime           0\n",
              "dtype: int64"
            ]
          },
          "metadata": {
            "tags": []
          },
          "execution_count": 15
        }
      ]
    },
    {
      "cell_type": "markdown",
      "metadata": {
        "id": "OD-NoJTtylil"
      },
      "source": [
        "### Reemplazando los valores perdidos inesperados de la columna <font color='blue'>“Overtime”</font> por No"
      ]
    },
    {
      "cell_type": "code",
      "metadata": {
        "id": "FlSugPq5lf9o",
        "colab": {
          "base_uri": "https://localhost:8080/"
        },
        "outputId": "4680f768-667b-4a1d-8fa8-bff57a2ee920"
      },
      "source": [
        "columna4 = ['overtime']\n",
        "analisis.replace_values(to_replace=['0', '1'], value=np.nan, columns=columna4) #PRIMERO PASO LOS VALORES 1 Y 0 A NULOS\n",
        "analisis.replace_values(to_replace=np.nan, value=\"No\", columns=columna4) #LUEGO LOS VALORES NULOS LOS PASO A NO\n",
        "analisis.datos.overtime.unique()"
      ],
      "execution_count": 16,
      "outputs": [
        {
          "output_type": "execute_result",
          "data": {
            "text/plain": [
              "array(['Yes', 'No'], dtype=object)"
            ]
          },
          "metadata": {
            "tags": []
          },
          "execution_count": 16
        }
      ]
    },
    {
      "cell_type": "markdown",
      "metadata": {
        "id": "4UKssVqn09T1"
      },
      "source": [
        "### Guardando el DataFrame en formato .csv"
      ]
    },
    {
      "cell_type": "code",
      "metadata": {
        "id": "XTPl0dPN18-p"
      },
      "source": [
        "analisis.save_csv(file_name='processed_data.csv', index=False)"
      ],
      "execution_count": 17,
      "outputs": []
    }
  ]
}